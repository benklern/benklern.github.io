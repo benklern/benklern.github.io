{
 "cells": [
  {
   "cell_type": "markdown",
   "metadata": {
    "deletable": true,
    "editable": true
   },
   "source": [
    "# Publications markdown generator for academicpages\n",
    "\n",
    "Takes a TSV of publications with metadata and converts them for use with [academicpages.github.io](academicpages.github.io). This is an interactive Jupyter notebook ([see more info here](http://jupyter-notebook-beginner-guide.readthedocs.io/en/latest/what_is_jupyter.html)). The core python code is also in `publications.py`. Run either from the `markdown_generator` folder after replacing `publications.tsv` with one containing your data.\n",
    "\n",
    "TODO: Make this work with BibTex and other databases of citations, rather than Stuart's non-standard TSV format and citation style.\n"
   ]
  },
  {
   "cell_type": "markdown",
   "metadata": {},
   "source": [
    "## Data format\n",
    "\n",
    "The TSV needs to have the following columns: pub_date, title, venue, excerpt, citation, site_url, and paper_url, with a header at the top. \n",
    "\n",
    "- `excerpt` and `paper_url` can be blank, but the others must have values. \n",
    "- `pub_date` must be formatted as YYYY-MM-DD.\n",
    "- `url_slug` will be the descriptive part of the .md file and the permalink URL for the page about the paper. The .md file will be `YYYY-MM-DD-[url_slug].md` and the permalink will be `https://[yourdomain]/publications/YYYY-MM-DD-[url_slug]`\n",
    "\n",
    "This is how the raw file looks (it doesn't look pretty, use a spreadsheet or other program to edit and create)."
   ]
  },
  {
   "cell_type": "code",
   "execution_count": 10,
   "metadata": {
    "collapsed": false
   },
   "outputs": [
    {
     "name": "stdout",
     "output_type": "stream",
     "text": [
      "pub_date\ttitle\tvenue\texcerpt\tcitation\turl_slug\tpaper_url\tslides_url\n",
      "2021-01-01\tSystematizing confidence in open research and evidence (SCORE)\tSocArXiv\tThis paper discusses the SCORE framework to enhance confidence in open research and evidence.\tAlipourfard, Nazanin et al. (2021). \"Systematizing confidence in open research and evidence (SCORE).\" <i>SocArXiv</i>.\tsystematizing-confidence-open-research\thttp://academicpages.github.io/files/systematizing_score.pdf\thttp://academicpages.github.io/files/slides_score.pdf\n",
      "2022-01-01\tCultural value resonance in folktales: A transformer-based analysis with the world value corpus\tInternational Conference on Social Computing, Behavioral-Cultural Modeling and Prediction and Behavior Representation in Modeling and Simulation\tThis paper uses transformer models to analyze cultural value resonance in folktales.\tBenkler, Noam et al. (2022). \"Cultural value resonance in folktales: A transformer-based analysis with the world value corpus.\" <i>International Conference on Social Computing</i>. 209-218.\tcultural-value-resonance-folktales\thttp://academicpages.github.io/files/cultural_value_resonance.pdf\thttp://academicpages.github.io/files/slides_cultural_value_resonance.pdf\n",
      "2023-01-01\tMapping a Plurality of Explanations with NLP: A Case Study of Mothers and Health Workers in India\tProceedings of the Annual Meeting of the Cognitive Science Society\tThis study uses NLP to map explanations provided by mothers and health workers in India.\tFriedman, Scott et al. (2023). \"Mapping a Plurality of Explanations with NLP: A Case Study of Mothers and Health Workers in India.\" <i>Proceedings of the Cognitive Science Society</i>. 45(45).\tmapping-plurality-explanations-nlp\thttp://academicpages.github.io/files/mapping_explanations_nlp.pdf\thttp://academicpages.github.io/files/slides_mapping_explanations_nlp.pdf\n",
      "2023-12-01\tAssessing LLMs for moral value pluralism\tarXiv preprint arXiv:2312.10075\tThis paper evaluates LLMs for their capability in moral value pluralism.\tBenkler, Noam et al. (2023). \"Assessing LLMs for moral value pluralism.\" <i>arXiv preprint arXiv:2312.10075</i>.\tassessing-llms-moral-value-pluralism\thttp://academicpages.github.io/files/assessing_llms_moral_value.pdf\thttp://academicpages.github.io/files/slides_assessing_llms.pdf\n",
      "2024-01-01\tIs from ought? A comparison of unsupervised methods for structuring values-based wisdom-of-crowds estimates\tJournal of Computational Social Science\tThis article compares unsupervised methods for structuring value-based crowd estimates.\tBrugnone, Nathan et al. (2024). \"Is from ought? A comparison of unsupervised methods for structuring values-based wisdom-of-crowds estimates.\" <i>Journal of Computational Social Science</i>. 1-51.\tis-from-ought\thttp://academicpages.github.io/files/is_from_ought.pdf\thttp://academicpages.github.io/files/slides_is_from_ought.pdf\n",
      "2024-01-01\tRecognizing Value Resonance with Resonance-Tuned RoBERTa Task Definition, Experimental Validation, and Robust Modeling\tProceedings of the 2024 Joint International Conference on Computational Linguistics, Language Resources and Evaluation (LREC-COLING 2024)\tThis paper explores recognizing value resonance using resonance-tuned RoBERTa models.\tBenkler, Noam et al. (2024). \"Recognizing Value Resonance with Resonance-Tuned RoBERTa Task Definition, Experimental Validation, and Robust Modeling.\" <i>Proceedings of LREC-COLING 2024</i>. 13688-13698.\trecognizing-value-resonance-robberta\thttp://academicpages.github.io/files/recognizing_value_resonance.pdf\thttp://academicpages.github.io/files/slides_recognizing_value_resonance.pdf"
     ]
    }
   ],
   "source": [
    "!cat publications.tsv"
   ]
  },
  {
   "cell_type": "markdown",
   "metadata": {},
   "source": [
    "## Import pandas\n",
    "\n",
    "We are using the very handy pandas library for dataframes."
   ]
  },
  {
   "cell_type": "code",
   "execution_count": 11,
   "metadata": {
    "collapsed": true,
    "deletable": true,
    "editable": true
   },
   "outputs": [],
   "source": [
    "import pandas as pd"
   ]
  },
  {
   "cell_type": "markdown",
   "metadata": {},
   "source": [
    "## Import TSV\n",
    "\n",
    "Pandas makes this easy with the read_csv function. We are using a TSV, so we specify the separator as a tab, or `\\t`.\n",
    "\n",
    "I found it important to put this data in a tab-separated values format, because there are a lot of commas in this kind of data and comma-separated values can get messed up. However, you can modify the import statement, as pandas also has read_excel(), read_json(), and others."
   ]
  },
  {
   "cell_type": "code",
   "execution_count": 12,
   "metadata": {
    "collapsed": false,
    "deletable": true,
    "editable": true
   },
   "outputs": [
    {
     "data": {
      "text/html": [
       "<div>\n",
       "<style scoped>\n",
       "    .dataframe tbody tr th:only-of-type {\n",
       "        vertical-align: middle;\n",
       "    }\n",
       "\n",
       "    .dataframe tbody tr th {\n",
       "        vertical-align: top;\n",
       "    }\n",
       "\n",
       "    .dataframe thead th {\n",
       "        text-align: right;\n",
       "    }\n",
       "</style>\n",
       "<table border=\"1\" class=\"dataframe\">\n",
       "  <thead>\n",
       "    <tr style=\"text-align: right;\">\n",
       "      <th></th>\n",
       "      <th>pub_date</th>\n",
       "      <th>title</th>\n",
       "      <th>venue</th>\n",
       "      <th>excerpt</th>\n",
       "      <th>citation</th>\n",
       "      <th>url_slug</th>\n",
       "      <th>paper_url</th>\n",
       "      <th>slides_url</th>\n",
       "    </tr>\n",
       "  </thead>\n",
       "  <tbody>\n",
       "    <tr>\n",
       "      <th>0</th>\n",
       "      <td>2021-01-01</td>\n",
       "      <td>Systematizing confidence in open research and ...</td>\n",
       "      <td>SocArXiv</td>\n",
       "      <td>This paper discusses the SCORE framework to en...</td>\n",
       "      <td>Alipourfard, Nazanin et al. (2021). \"Systemati...</td>\n",
       "      <td>systematizing-confidence-open-research</td>\n",
       "      <td>http://academicpages.github.io/files/systemati...</td>\n",
       "      <td>http://academicpages.github.io/files/slides_sc...</td>\n",
       "    </tr>\n",
       "    <tr>\n",
       "      <th>1</th>\n",
       "      <td>2022-01-01</td>\n",
       "      <td>Cultural value resonance in folktales: A trans...</td>\n",
       "      <td>International Conference on Social Computing, ...</td>\n",
       "      <td>This paper uses transformer models to analyze ...</td>\n",
       "      <td>Benkler, Noam et al. (2022). \"Cultural value r...</td>\n",
       "      <td>cultural-value-resonance-folktales</td>\n",
       "      <td>http://academicpages.github.io/files/cultural_...</td>\n",
       "      <td>http://academicpages.github.io/files/slides_cu...</td>\n",
       "    </tr>\n",
       "    <tr>\n",
       "      <th>2</th>\n",
       "      <td>2023-01-01</td>\n",
       "      <td>Mapping a Plurality of Explanations with NLP: ...</td>\n",
       "      <td>Proceedings of the Annual Meeting of the Cogni...</td>\n",
       "      <td>This study uses NLP to map explanations provid...</td>\n",
       "      <td>Friedman, Scott et al. (2023). \"Mapping a Plur...</td>\n",
       "      <td>mapping-plurality-explanations-nlp</td>\n",
       "      <td>http://academicpages.github.io/files/mapping_e...</td>\n",
       "      <td>http://academicpages.github.io/files/slides_ma...</td>\n",
       "    </tr>\n",
       "    <tr>\n",
       "      <th>3</th>\n",
       "      <td>2023-12-01</td>\n",
       "      <td>Assessing LLMs for moral value pluralism</td>\n",
       "      <td>arXiv preprint arXiv:2312.10075</td>\n",
       "      <td>This paper evaluates LLMs for their capability...</td>\n",
       "      <td>Benkler, Noam et al. (2023). \"Assessing LLMs f...</td>\n",
       "      <td>assessing-llms-moral-value-pluralism</td>\n",
       "      <td>http://academicpages.github.io/files/assessing...</td>\n",
       "      <td>http://academicpages.github.io/files/slides_as...</td>\n",
       "    </tr>\n",
       "    <tr>\n",
       "      <th>4</th>\n",
       "      <td>2024-01-01</td>\n",
       "      <td>Is from ought? A comparison of unsupervised me...</td>\n",
       "      <td>Journal of Computational Social Science</td>\n",
       "      <td>This article compares unsupervised methods for...</td>\n",
       "      <td>Brugnone, Nathan et al. (2024). \"Is from ought...</td>\n",
       "      <td>is-from-ought</td>\n",
       "      <td>http://academicpages.github.io/files/is_from_o...</td>\n",
       "      <td>http://academicpages.github.io/files/slides_is...</td>\n",
       "    </tr>\n",
       "    <tr>\n",
       "      <th>5</th>\n",
       "      <td>2024-01-01</td>\n",
       "      <td>Recognizing Value Resonance with Resonance-Tun...</td>\n",
       "      <td>Proceedings of the 2024 Joint International Co...</td>\n",
       "      <td>This paper explores recognizing value resonanc...</td>\n",
       "      <td>Benkler, Noam et al. (2024). \"Recognizing Valu...</td>\n",
       "      <td>recognizing-value-resonance-robberta</td>\n",
       "      <td>http://academicpages.github.io/files/recognizi...</td>\n",
       "      <td>http://academicpages.github.io/files/slides_re...</td>\n",
       "    </tr>\n",
       "  </tbody>\n",
       "</table>\n",
       "</div>"
      ],
      "text/plain": [
       "     pub_date                                              title  \\\n",
       "0  2021-01-01  Systematizing confidence in open research and ...   \n",
       "1  2022-01-01  Cultural value resonance in folktales: A trans...   \n",
       "2  2023-01-01  Mapping a Plurality of Explanations with NLP: ...   \n",
       "3  2023-12-01           Assessing LLMs for moral value pluralism   \n",
       "4  2024-01-01  Is from ought? A comparison of unsupervised me...   \n",
       "5  2024-01-01  Recognizing Value Resonance with Resonance-Tun...   \n",
       "\n",
       "                                               venue  \\\n",
       "0                                           SocArXiv   \n",
       "1  International Conference on Social Computing, ...   \n",
       "2  Proceedings of the Annual Meeting of the Cogni...   \n",
       "3                    arXiv preprint arXiv:2312.10075   \n",
       "4            Journal of Computational Social Science   \n",
       "5  Proceedings of the 2024 Joint International Co...   \n",
       "\n",
       "                                             excerpt  \\\n",
       "0  This paper discusses the SCORE framework to en...   \n",
       "1  This paper uses transformer models to analyze ...   \n",
       "2  This study uses NLP to map explanations provid...   \n",
       "3  This paper evaluates LLMs for their capability...   \n",
       "4  This article compares unsupervised methods for...   \n",
       "5  This paper explores recognizing value resonanc...   \n",
       "\n",
       "                                            citation  \\\n",
       "0  Alipourfard, Nazanin et al. (2021). \"Systemati...   \n",
       "1  Benkler, Noam et al. (2022). \"Cultural value r...   \n",
       "2  Friedman, Scott et al. (2023). \"Mapping a Plur...   \n",
       "3  Benkler, Noam et al. (2023). \"Assessing LLMs f...   \n",
       "4  Brugnone, Nathan et al. (2024). \"Is from ought...   \n",
       "5  Benkler, Noam et al. (2024). \"Recognizing Valu...   \n",
       "\n",
       "                                 url_slug  \\\n",
       "0  systematizing-confidence-open-research   \n",
       "1      cultural-value-resonance-folktales   \n",
       "2      mapping-plurality-explanations-nlp   \n",
       "3    assessing-llms-moral-value-pluralism   \n",
       "4                           is-from-ought   \n",
       "5    recognizing-value-resonance-robberta   \n",
       "\n",
       "                                           paper_url  \\\n",
       "0  http://academicpages.github.io/files/systemati...   \n",
       "1  http://academicpages.github.io/files/cultural_...   \n",
       "2  http://academicpages.github.io/files/mapping_e...   \n",
       "3  http://academicpages.github.io/files/assessing...   \n",
       "4  http://academicpages.github.io/files/is_from_o...   \n",
       "5  http://academicpages.github.io/files/recognizi...   \n",
       "\n",
       "                                          slides_url  \n",
       "0  http://academicpages.github.io/files/slides_sc...  \n",
       "1  http://academicpages.github.io/files/slides_cu...  \n",
       "2  http://academicpages.github.io/files/slides_ma...  \n",
       "3  http://academicpages.github.io/files/slides_as...  \n",
       "4  http://academicpages.github.io/files/slides_is...  \n",
       "5  http://academicpages.github.io/files/slides_re...  "
      ]
     },
     "execution_count": 12,
     "metadata": {},
     "output_type": "execute_result"
    }
   ],
   "source": [
    "publications = pd.read_csv(\"publications.tsv\", sep=\"\\t\", header=0)\n",
    "publications"
   ]
  },
  {
   "cell_type": "markdown",
   "metadata": {},
   "source": [
    "## Escape special characters\n",
    "\n",
    "YAML is very picky about how it takes a valid string, so we are replacing single and double quotes (and ampersands) with their HTML encoded equivilents. This makes them look not so readable in raw format, but they are parsed and rendered nicely."
   ]
  },
  {
   "cell_type": "code",
   "execution_count": 13,
   "metadata": {
    "collapsed": true,
    "deletable": true,
    "editable": true
   },
   "outputs": [],
   "source": [
    "html_escape_table = {\n",
    "    \"&\": \"&amp;\",\n",
    "    '\"': \"&quot;\",\n",
    "    \"'\": \"&apos;\"\n",
    "    }\n",
    "\n",
    "def html_escape(text):\n",
    "    \"\"\"Produce entities within text.\"\"\"\n",
    "    return \"\".join(html_escape_table.get(c,c) for c in text)"
   ]
  },
  {
   "cell_type": "markdown",
   "metadata": {},
   "source": [
    "## Creating the markdown files\n",
    "\n",
    "This is where the heavy lifting is done. This loops through all the rows in the TSV dataframe, then starts to concatentate a big string (```md```) that contains the markdown for each type. It does the YAML metadata first, then does the description for the individual page."
   ]
  },
  {
   "cell_type": "code",
   "execution_count": 14,
   "metadata": {
    "collapsed": false,
    "deletable": true,
    "editable": true
   },
   "outputs": [],
   "source": [
    "import os\n",
    "for row, item in publications.iterrows():\n",
    "    \n",
    "    md_filename = str(item.pub_date) + \"-\" + item.url_slug + \".md\"\n",
    "    html_filename = str(item.pub_date) + \"-\" + item.url_slug\n",
    "    year = item.pub_date[:4]\n",
    "    \n",
    "    ## YAML variables\n",
    "    \n",
    "    md = \"---\\ntitle: \\\"\"   + item.title + '\"\\n'\n",
    "    \n",
    "    md += \"\"\"collection: publications\"\"\"\n",
    "    \n",
    "    md += \"\"\"\\npermalink: /publication/\"\"\" + html_filename\n",
    "    \n",
    "    if len(str(item.excerpt)) > 5:\n",
    "        md += \"\\nexcerpt: '\" + html_escape(item.excerpt) + \"'\"\n",
    "    \n",
    "    md += \"\\ndate: \" + str(item.pub_date) \n",
    "    \n",
    "    md += \"\\nvenue: '\" + html_escape(item.venue) + \"'\"\n",
    "    \n",
    "    if len(str(item.slides_url)) > 5:\n",
    "        md += \"\\nslidesurl: '\" + item.slides_url + \"'\"\n",
    "\n",
    "    if len(str(item.paper_url)) > 5:\n",
    "        md += \"\\npaperurl: '\" + item.paper_url + \"'\"\n",
    "    \n",
    "    md += \"\\ncitation: '\" + html_escape(item.citation) + \"'\"\n",
    "    \n",
    "    md += \"\\n---\"\n",
    "    \n",
    "    ## Markdown description for individual page\n",
    "        \n",
    "    if len(str(item.excerpt)) > 5:\n",
    "        md += \"\\n\" + html_escape(item.excerpt) + \"\\n\"\n",
    "\n",
    "    if len(str(item.slides_url)) > 5:\n",
    "        md += \"\\n[Download slides here](\" + item.slides_url + \")\\n\" \n",
    "\n",
    "    if len(str(item.paper_url)) > 5:\n",
    "        md += \"\\n[Download paper here](\" + item.paper_url + \")\\n\" \n",
    "        \n",
    "    md += \"\\nRecommended citation: \" + item.citation\n",
    "    \n",
    "    md_filename = os.path.basename(md_filename)\n",
    "       \n",
    "    with open(\"../_publications/\" + md_filename, 'w') as f:\n",
    "        f.write(md)"
   ]
  },
  {
   "cell_type": "markdown",
   "metadata": {},
   "source": [
    "These files are in the publications directory, one directory below where we're working from."
   ]
  },
  {
   "cell_type": "code",
   "execution_count": 15,
   "metadata": {
    "collapsed": false,
    "deletable": true,
    "editable": true
   },
   "outputs": [
    {
     "name": "stdout",
     "output_type": "stream",
     "text": [
      "2009-10-01-paper-title-number-1.md\n",
      "2010-10-01-paper-title-number-2.md\n",
      "2015-10-01-paper-title-number-3.md\n",
      "2021-01-01-systematizing-confidence-open-research.md\n",
      "2022-01-01-cultural-value-resonance-folktales.md\n",
      "2023-01-01-mapping-plurality-explanations-nlp.md\n",
      "2023-12-01-assessing-llms-moral-value-pluralism.md\n",
      "2024-01-01-is-from-ought.md\n",
      "2024-01-01-recognizing-value-resonance-robberta.md\n",
      "2024-02-17-paper-title-number-4.md\n"
     ]
    }
   ],
   "source": [
    "!ls ../_publications/"
   ]
  },
  {
   "cell_type": "code",
   "execution_count": 16,
   "metadata": {
    "collapsed": false,
    "deletable": true,
    "editable": true
   },
   "outputs": [
    {
     "name": "stdout",
     "output_type": "stream",
     "text": [
      "---\n",
      "title: \"Paper Title Number 1\"\n",
      "collection: publications\n",
      "category: manuscripts\n",
      "permalink: /publication/2009-10-01-paper-title-number-1\n",
      "excerpt: 'This paper is about the number 1. The number 2 is left for future work.'\n",
      "date: 2009-10-01\n",
      "venue: 'Journal 1'\n",
      "slidesurl: 'http://academicpages.github.io/files/slides1.pdf'\n",
      "paperurl: 'http://academicpages.github.io/files/paper1.pdf'\n",
      "citation: 'Your Name, You. (2009). &quot;Paper Title Number 1.&quot; <i>Journal 1</i>. 1(1).'\n",
      "---\n",
      "\n",
      "The contents above will be part of a list of publications, if the user clicks the link for the publication than the contents of section will be rendered as a full page, allowing you to provide more information about the paper for the reader. When publications are displayed as a single page, the contents of the above \"citation\" field will automatically be included below this section in a smaller font."
     ]
    }
   ],
   "source": [
    "!cat ../_publications/2009-10-01-paper-title-number-1.md"
   ]
  },
  {
   "cell_type": "code",
   "execution_count": null,
   "metadata": {
    "collapsed": true,
    "deletable": true,
    "editable": true
   },
   "outputs": [],
   "source": []
  }
 ],
 "metadata": {
  "kernelspec": {
   "display_name": "Python 3",
   "language": "python",
   "name": "python3"
  },
  "language_info": {
   "codemirror_mode": {
    "name": "ipython",
    "version": 3
   },
   "file_extension": ".py",
   "mimetype": "text/x-python",
   "name": "python",
   "nbconvert_exporter": "python",
   "pygments_lexer": "ipython3",
   "version": "3.9.19"
  }
 },
 "nbformat": 4,
 "nbformat_minor": 0
}
